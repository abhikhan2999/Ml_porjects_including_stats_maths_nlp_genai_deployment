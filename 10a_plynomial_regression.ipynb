{
 "cells": [
  {
   "cell_type": "code",
   "execution_count": 1,
   "metadata": {},
   "outputs": [],
   "source": [
    "# #plynomial Regression \n",
    "# 1. Forms the relationship between the dependent variable x and y molded as nth degree of ploynomial. This regressions fits the non linear regression between x and the x valaue of coresponding varable. For example the growth rate of the tissues, the distribution of carbon isotops in lake sediments and the progress of the disease."
   ]
  },
  {
   "cell_type": "code",
   "execution_count": 2,
   "metadata": {},
   "outputs": [],
   "source": [
    "#import numpya, matplotlib and pandas, plolynomialfeatires and linear regression\n",
    "import numpy as np\n",
    "import matplotlib.pyplot as plt\n",
    "import pandas as pd\n",
    "from sklearn.preprocessing import PolynomialFeatures\n",
    "from sklearn.linear_model import LinearRegression\n"
   ]
  },
  {
   "cell_type": "code",
   "execution_count": 3,
   "metadata": {},
   "outputs": [],
   "source": [
    "#create the dummy data \n",
    "np.random.seed(0)\n",
    "x = 2 - 3 * np.random.normal(0, 1, 20)\n",
    "y = x - 2 * (x ** 2) + np.random.normal(-3, 3, 20)"
   ]
  },
  {
   "cell_type": "code",
   "execution_count": 4,
   "metadata": {},
   "outputs": [
    {
     "data": {
      "text/plain": [
       "array([-3.29215704,  0.79952837, -0.93621395, -4.7226796 , -3.60267397,\n",
       "        4.93183364, -0.85026525,  2.45407162,  2.30965656,  0.76820449,\n",
       "        1.56786929, -2.36282052, -0.28311318,  1.63497495,  0.6684103 ,\n",
       "        0.99897702, -2.48223722,  2.61547479,  1.0607969 ,  4.56228722])"
      ]
     },
     "execution_count": 4,
     "metadata": {},
     "output_type": "execute_result"
    }
   ],
   "source": [
    "x"
   ]
  },
  {
   "cell_type": "code",
   "execution_count": 5,
   "metadata": {},
   "outputs": [
    {
     "data": {
      "text/plain": [
       "array([-35.62772241,  -1.51810708,  -3.09589848, -54.55657982,\n",
       "       -25.75192957, -51.07722948,  -5.1588917 , -13.15241501,\n",
       "        -6.76103261,   0.99600451,  -5.88371664, -15.39417459,\n",
       "        -6.10677656, -12.65370063,  -4.26887081,  -3.52788624,\n",
       "       -14.1143684 , -10.45880243,  -5.35176366, -40.97355035])"
      ]
     },
     "execution_count": 5,
     "metadata": {},
     "output_type": "execute_result"
    }
   ],
   "source": [
    "y"
   ]
  },
  {
   "cell_type": "code",
   "execution_count": 6,
   "metadata": {},
   "outputs": [],
   "source": [
    "# Reshaping for the model\n",
    "\n",
    "x = x[:, np.newaxis]\n",
    "y = y[:, np.newaxis]\n"
   ]
  },
  {
   "cell_type": "code",
   "execution_count": 7,
   "metadata": {},
   "outputs": [
    {
     "data": {
      "text/plain": [
       "array([[-3.29215704],\n",
       "       [ 0.79952837],\n",
       "       [-0.93621395],\n",
       "       [-4.7226796 ],\n",
       "       [-3.60267397],\n",
       "       [ 4.93183364],\n",
       "       [-0.85026525],\n",
       "       [ 2.45407162],\n",
       "       [ 2.30965656],\n",
       "       [ 0.76820449],\n",
       "       [ 1.56786929],\n",
       "       [-2.36282052],\n",
       "       [-0.28311318],\n",
       "       [ 1.63497495],\n",
       "       [ 0.6684103 ],\n",
       "       [ 0.99897702],\n",
       "       [-2.48223722],\n",
       "       [ 2.61547479],\n",
       "       [ 1.0607969 ],\n",
       "       [ 4.56228722]])"
      ]
     },
     "execution_count": 7,
     "metadata": {},
     "output_type": "execute_result"
    }
   ],
   "source": [
    "x"
   ]
  },
  {
   "cell_type": "code",
   "execution_count": 8,
   "metadata": {},
   "outputs": [
    {
     "data": {
      "text/plain": [
       "array([[-35.62772241],\n",
       "       [ -1.51810708],\n",
       "       [ -3.09589848],\n",
       "       [-54.55657982],\n",
       "       [-25.75192957],\n",
       "       [-51.07722948],\n",
       "       [ -5.1588917 ],\n",
       "       [-13.15241501],\n",
       "       [ -6.76103261],\n",
       "       [  0.99600451],\n",
       "       [ -5.88371664],\n",
       "       [-15.39417459],\n",
       "       [ -6.10677656],\n",
       "       [-12.65370063],\n",
       "       [ -4.26887081],\n",
       "       [ -3.52788624],\n",
       "       [-14.1143684 ],\n",
       "       [-10.45880243],\n",
       "       [ -5.35176366],\n",
       "       [-40.97355035]])"
      ]
     },
     "execution_count": 8,
     "metadata": {},
     "output_type": "execute_result"
    }
   ],
   "source": [
    "y"
   ]
  },
  {
   "cell_type": "code",
   "execution_count": 12,
   "metadata": {},
   "outputs": [
    {
     "data": {
      "image/png": "[encoded data removed]",
      "text/plain": [
       "<Figure size 640x480 with 1 Axes>"
      ]
     },
     "metadata": {},
     "output_type": "display_data"
    }
   ],
   "source": [
    "import numpy as np\n",
    "import matplotlib.pyplot as plt\n",
    "from sklearn.preprocessing import PolynomialFeatures\n",
    "from sklearn.linear_model import LinearRegression\n",
    "import operator\n",
    "\n",
    "# Step 1: Create Dummy Data\n",
    "np.random.seed(0)\n",
    "x = 2 - 3 * np.random.normal(0, 1, 20)\n",
    "y = x - 2 * (x ** 2) + np.random.normal(-3, 3, 20)\n",
    "\n",
    "# Reshaping for the model\n",
    "x = x[:, np.newaxis]\n",
    "y = y[:, np.newaxis]\n",
    "\n",
    "# Step 2: Polynomial Transformation\n",
    "degree = 4  # Degree of the polynomial\n",
    "poly_features = PolynomialFeatures(degree=degree)\n",
    "x_poly = poly_features.fit_transform(x)\n",
    "\n",
    "# Step 3: Train Linear Regression Model\n",
    "model = LinearRegression()\n",
    "model.fit(x_poly, y)\n",
    "y_poly_pred = model.predict(x_poly)\n",
    "\n",
    "# Step 4: Plotting the results\n",
    "plt.scatter(x, y, color='blue')\n",
    "sorted_axis = operator.itemgetter(0)\n",
    "sorted_zip = sorted(zip(x, y_poly_pred), key=sorted_axis)\n",
    "x, y_poly_pred = zip(*sorted_zip)\n",
    "plt.plot(x, y_poly_pred, color='magenta')\n",
    "plt.title('Polynomial Regression')\n",
    "plt.xlabel('X')\n",
    "plt.ylabel('Y')\n",
    "plt.show()"
   ]
  },
  {
   "cell_type": "code",
   "execution_count": null,
   "metadata": {},
   "outputs": [],
   "source": []
  }
 ],
 "metadata": {
  "kernelspec": {
   "display_name": "python_eda",
   "language": "python",
   "name": "python3"
  },
  "language_info": {
   "codemirror_mode": {
    "name": "ipython",
    "version": 3
   },
   "file_extension": ".py",
   "mimetype": "text/x-python",
   "name": "python",
   "nbconvert_exporter": "python",
   "pygments_lexer": "ipython3",
   "version": "3.12.1"
  }
 },
 "nbformat": 4,
 "nbformat_minor": 2
}
